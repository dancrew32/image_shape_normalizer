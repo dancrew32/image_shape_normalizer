{
 "cells": [
  {
   "cell_type": "code",
   "execution_count": 7,
   "metadata": {},
   "outputs": [
    {
     "name": "stdout",
     "output_type": "stream",
     "text": [
      "(100, 100, 3)\n",
      "(100, 100, 3)\n",
      "(100, 100, 3)\n",
      "(100, 100, 3)\n",
      "(100, 100, 3)\n"
     ]
    }
   ],
   "source": [
    "import os\n",
    "import sys\n",
    "import shutil\n",
    "import numpy as np\n",
    "from PIL import Image\n",
    "\n",
    "ALLOWED_FORMATS = ('.jpg', '.jpeg', '.png')\n",
    "RESIZED_SIZE = (100, 100)\n",
    "CURRENT_DIR = os.getcwd()\n",
    "OUTPUT_DIR = os.path.join(CURRENT_DIR, 'resized')\n",
    "TEST_IMAGE_DIR = os.path.join(CURRENT_DIR, 'test_images')\n",
    "OUTPUT_FORMAT = 'PNG'\n",
    "\n",
    "if os.path.exists(OUTPUT_DIR):\n",
    "    shutil.rmtree(OUTPUT_DIR, ignore_errors=True)\n",
    "os.mkdir(OUTPUT_DIR)\n",
    "\n",
    "def resize(img):\n",
    "    parts = os.path.splitext(img)\n",
    "    out = f'{parts[0]}_resized'\n",
    "    extension = parts[1].lower()\n",
    "    if extension not in ALLOWED_FORMATS:\n",
    "        return False\n",
    "    im = Image.open(f'{TEST_IMAGE_DIR}/{img}').convert('RGB')\n",
    "    width, height = im.size\n",
    "    cr = im.resize(RESIZED_SIZE)\n",
    "    print(np.array(cr).shape)\n",
    "    cr.save(f'{OUTPUT_DIR}/{out}{extension}', OUTPUT_FORMAT)\n",
    "    return True\n",
    "        \n",
    "for img in os.listdir(TEST_IMAGE_DIR):\n",
    "    resize(img)"
   ]
  },
  {
   "cell_type": "code",
   "execution_count": null,
   "metadata": {},
   "outputs": [],
   "source": []
  },
  {
   "cell_type": "code",
   "execution_count": null,
   "metadata": {},
   "outputs": [],
   "source": []
  }
 ],
 "metadata": {
  "kernelspec": {
   "display_name": "Python 3",
   "language": "python",
   "name": "python3"
  },
  "language_info": {
   "codemirror_mode": {
    "name": "ipython",
    "version": 3
   },
   "file_extension": ".py",
   "mimetype": "text/x-python",
   "name": "python",
   "nbconvert_exporter": "python",
   "pygments_lexer": "ipython3",
   "version": "3.6.8"
  }
 },
 "nbformat": 4,
 "nbformat_minor": 2
}
